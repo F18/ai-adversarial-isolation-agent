{
 "cells": [
  {
   "cell_type": "code",
   "execution_count": 3,
   "metadata": {
    "edited": true,
    "gradable": true,
    "grader_id": "5n6zgsh9f2h",
    "udacity_user_query": ""
   },
   "outputs": [
    {
     "name": "stdout",
     "output_type": "stream",
     "text": [
      "Expected node count: 55\n",
      "Your node count: 308\n",
      "Uh oh...looks like there may be a problem.\n"
     ]
    }
   ],
   "source": [
    "def alpha_beta_search(gameState):\n",
    "    \"\"\" Return the move along a branch of the game tree that\n",
    "    has the best possible value.  A move is a pair of coordinates\n",
    "    in (column, row) order corresponding to a legal move for\n",
    "    the searching player.\n",
    "    \n",
    "    You can ignore the special case of calling this function\n",
    "    from a terminal state.\n",
    "    \"\"\"\n",
    "    alpha = float(\"-inf\")\n",
    "    beta = float(\"inf\")\n",
    "    best_score = float(\"-inf\")\n",
    "    best_move = None\n",
    "    for a in gameState.actions():\n",
    "        v = min_value(gameState.result(a), alpha, beta)\n",
    "        alpha = max(alpha, v)\n",
    "        if v > best_score:\n",
    "            best_score = v\n",
    "            best_move = a\n",
    "    return best_move\n",
    "\n",
    "# TODO: modify the function signature to accept an alpha and beta parameter\n",
    "def min_value(gameState, alpha, beta):\n",
    "    \"\"\" Return the value for a win (+1) if the game is over,\n",
    "    otherwise return the minimum value over all legal child\n",
    "    nodes.\n",
    "    \"\"\"\n",
    "    if gameState.terminal_test():\n",
    "        return gameState.utility(0)\n",
    "    \n",
    "    v = float(\"inf\")\n",
    "    for a in gameState.actions():\n",
    "        v = min(v, max_value(gameState.result(a), alpha, beta))\n",
    "        if v <= alpha:\n",
    "            return v\n",
    "        beta = min(beta, v)\n",
    "    return v\n",
    "\n",
    "# TODO: modify the function signature to accept an alpha and beta parameter\n",
    "def max_value(gameState, alpha, beta):\n",
    "    \"\"\" Return the value for a loss (-1) if the game is over,\n",
    "    otherwise return the maximum value over all legal child\n",
    "    nodes.\n",
    "    \"\"\"\n",
    "    if gameState.terminal_test():\n",
    "        return gameState.utility(0)\n",
    "    \n",
    "    v = float(\"-inf\")\n",
    "    for a in gameState.actions():\n",
    "        # TODO: modify the call to min_value()\n",
    "        v = max(v, min_value(gameState.result(a), alpha, beta))\n",
    "        if v >= beta:\n",
    "            return v\n",
    "        alpha = max(alpha, v)\n",
    "    return v\n",
    "\n",
    "\n",
    "# Uncomment the code below to pre-test your helper function\n",
    "'''\n",
    "import gamestate as game\n",
    "# Test the depth limit by checking the number of nodes visited\n",
    "# -- recall that minimax visits every node in the search tree,\n",
    "# so if we search depth one on an empty board then minimax should\n",
    "# visit each of the five open spaces\n",
    "expected_node_count = 55\n",
    "rootNode = game.GameState()\n",
    "alpha_beta_search(rootNode)\n",
    "\n",
    "print(\"Expected node count: {}\".format(expected_node_count))\n",
    "print(\"Your node count: {}\".format(game.call_counter))\n",
    "\n",
    "if game.call_counter == expected_node_count:\n",
    "    print(\"That's right! Looks like your alpha-beta pruning is working!\")\n",
    "else:\n",
    "    print(\"Uh oh...looks like there may be a problem.\")\n",
    "'''"
   ]
  },
  {
   "cell_type": "code",
   "execution_count": null,
   "metadata": {},
   "outputs": [],
   "source": []
  },
  {
   "cell_type": "code",
   "execution_count": null,
   "metadata": {},
   "outputs": [],
   "source": []
  }
 ],
 "metadata": {
  "grader_mode": "",
  "kernelspec": {
   "display_name": "Python 3",
   "language": "python",
   "name": "python3"
  },
  "language_info": {
   "codemirror_mode": {
    "name": "ipython",
    "version": 3
   },
   "file_extension": ".py",
   "mimetype": "text/x-python",
   "name": "python",
   "nbconvert_exporter": "python",
   "pygments_lexer": "ipython3",
   "version": "3.6.3"
  },
  "showGradeBtn": true
 },
 "nbformat": 4,
 "nbformat_minor": 2
}
