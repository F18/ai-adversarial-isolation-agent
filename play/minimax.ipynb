{
 "cells": [
  {
   "cell_type": "code",
   "execution_count": 1,
   "metadata": {
    "edited": false,
    "gradable": true,
    "grader_id": "lnk039q73v",
    "udacity_user_query": ""
   },
   "outputs": [
    {
     "name": "stdout",
     "output_type": "stream",
     "text": [
      "Best move choices: [(0, 0), (2, 0), (0, 1)]\n",
      "Your code chose: None\n",
      "Uh oh...looks like there may be a problem.\n"
     ]
    }
   ],
   "source": [
    "from minimax_helpers import *\n",
    "def minimax_decision(gameState):\n",
    "    \"\"\" Return the move along a branch of the game tree that\n",
    "    has the best possible value.  A move is a pair of coordinates\n",
    "    in (column, row) order corresponding to a legal move for\n",
    "    the searching player.\n",
    "    \n",
    "    You can ignore the special case of calling this function\n",
    "    from a terminal state.\n",
    "    \"\"\"\n",
    "\n",
    "    # TODO: Finish this function!\n",
    "    pass\n",
    "\n",
    "\n",
    "# Uncomment the code below to pre-test your helper function\n",
    "\n",
    "import gamestate as game\n",
    "best_moves = set([(0, 0), (2, 0), (0, 1)])\n",
    "rootNode = game.GameState()\n",
    "minimax_move = minimax_decision(rootNode)\n",
    "\n",
    "print(\"Best move choices: {}\".format(list(best_moves)))\n",
    "print(\"Your code chose: {}\".format(minimax_move))\n",
    "\n",
    "if minimax_move in best_moves:\n",
    "    print(\"That's one of the best move choices. Looks like your minimax-decision function worked!\")\n",
    "else:\n",
    "    print(\"Uh oh...looks like there may be a problem.\")\n"
   ]
  },
  {
   "cell_type": "code",
   "execution_count": null,
   "metadata": {
    "grader_id": "lzxk5ikw3m"
   },
   "outputs": [],
   "source": []
  }
 ],
 "metadata": {
  "grader_mode": "",
  "kernelspec": {
   "display_name": "Python 3",
   "language": "python",
   "name": "python3"
  },
  "language_info": {
   "codemirror_mode": {
    "name": "ipython",
    "version": 3
   },
   "file_extension": ".py",
   "mimetype": "text/x-python",
   "name": "python",
   "nbconvert_exporter": "python",
   "pygments_lexer": "ipython3",
   "version": "3.9.18"
  },
  "showGradeBtn": true
 },
 "nbformat": 4,
 "nbformat_minor": 2
}
