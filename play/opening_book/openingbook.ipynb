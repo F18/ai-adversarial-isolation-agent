{
 "cells": [
  {
   "cell_type": "code",
   "execution_count": null,
   "metadata": {
    "edited": true,
    "gradable": true,
    "grader_id": "pl5ptpbpnl",
    "udacity_user_query": ""
   },
   "outputs": [],
   "source": [
    "import random\n",
    "\n",
    "from gamestate import GameState\n",
    "\n",
    "NUM_ROUNDS = 10\n",
    "\n",
    "\n",
    "def build_table(num_rounds=NUM_ROUNDS):\n",
    "    # Builds a table that maps from game state -> action\n",
    "    # by choosing the action that accumulates the most\n",
    "    # wins for the active player. (Note that this uses\n",
    "    # raw win counts, which are a poor statistic to\n",
    "    # estimate the value of an action; better statistics\n",
    "    # exist.)\n",
    "    from collections import defaultdict, Counter\n",
    "    book = defaultdict(Counter)\n",
    "    for _ in range(num_rounds):\n",
    "        state = GameState()\n",
    "        build_tree(state, book)\n",
    "    return {k: max(v, key=v.get) for k, v in book.items()}\n",
    "\n",
    "\n",
    "def build_tree(state, book, depth=2):\n",
    "    if depth <= 0 or state.terminal_test():\n",
    "        return -simulate(state)\n",
    "    action = random.choice(state.actions())\n",
    "    reward = build_tree(state.result(action), book, depth - 1)\n",
    "    book[state.hashable][action] += reward\n",
    "    return -reward\n",
    "\n",
    "\n",
    "def simulate(state):\n",
    "    player_id = state._parity\n",
    "    while not state.terminal_test():\n",
    "        state = state.result(random.choice(state.actions()))\n",
    "    return -1 if state.utility(player_id) < 0 else 1\n",
    "\n",
    "    \n",
    "# Uncomment the code below to pre-test your helper function\n",
    "'''\n",
    "book = build_table(10)\n",
    "\n",
    "assert len(book) > 0, \"Your opening book is empty\"\n",
    "assert all(isinstance(k, tuple) for k in book), \\\n",
    "    \"All the keys should be `hashable`\"\n",
    "assert all(isinstance(v, tuple) and len(v) == 2 for v in book.values()), \\\n",
    "    \"All the values should be tuples of (x, y) actions\"\n",
    "print(\"Looks like your book worked!\")\n",
    "print(book)\n",
    "'''"
   ]
  },
  {
   "cell_type": "code",
   "execution_count": null,
   "metadata": {
    "grader_id": "5x9iezsbbtm"
   },
   "outputs": [],
   "source": []
  }
 ],
 "metadata": {
  "grader_mode": "",
  "kernelspec": {
   "display_name": "Python 3",
   "language": "python",
   "name": "python3"
  },
  "language_info": {
   "codemirror_mode": {
    "name": "ipython",
    "version": 3
   },
   "file_extension": ".py",
   "mimetype": "text/x-python",
   "name": "python",
   "nbconvert_exporter": "python",
   "pygments_lexer": "ipython3",
   "version": "3.6.3"
  },
  "showGradeBtn": true
 },
 "nbformat": 4,
 "nbformat_minor": 2
}
