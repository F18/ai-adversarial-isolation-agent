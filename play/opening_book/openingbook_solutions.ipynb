{
 "cells": [
  {
   "cell_type": "code",
   "execution_count": null,
   "metadata": {},
   "outputs": [],
   "source": [
    "import random\n",
    "\n",
    "from gamestate import GameState\n",
    "\n",
    "NUM_ROUNDS = 10\n",
    "\n",
    "def build_table(num_rounds=NUM_ROUNDS):\n",
    "    # Builds a table that maps from game state -> action\n",
    "    # by choosing the action that accumulates the most\n",
    "    # wins for the active player. (Note that this uses\n",
    "    # raw win counts, which are a poor statistic to\n",
    "    # estimate the value of an action; better statistics\n",
    "    # exist.)\n",
    "    from collections import defaultdict, Counter\n",
    "    book = defaultdict(Counter)\n",
    "    for _ in range(num_rounds):\n",
    "        state = GameState()\n",
    "        build_tree(state, book)\n",
    "    return {k: max(v, key=v.get) for k, v in book.items()}\n",
    "\n",
    "\n",
    "def build_tree(state, book, depth=2):\n",
    "    if depth <= 0 or state.terminal_test():\n",
    "        return -simulate(state)\n",
    "    action = random.choice(state.actions())\n",
    "    reward = build_tree(state.result(action), book, depth - 1)\n",
    "    book[state.hashable][action] += reward\n",
    "    return -reward\n",
    "\n",
    "\n",
    "def simulate(state):\n",
    "    player_id = state._parity\n",
    "    while not state.terminal_test():\n",
    "        state = state.result(random.choice(state.actions()))\n",
    "    return -1 if state.utility(player_id) < 0 else 1\n"
   ]
  }
 ],
 "metadata": {
  "kernelspec": {
   "display_name": "Python 3",
   "language": "python",
   "name": "python3"
  },
  "language_info": {
   "codemirror_mode": {
    "name": "ipython",
    "version": 3
   },
   "file_extension": ".py",
   "mimetype": "text/x-python",
   "name": "python",
   "nbconvert_exporter": "python",
   "pygments_lexer": "ipython3",
   "version": "3.6.3"
  }
 },
 "nbformat": 4,
 "nbformat_minor": 2
}
