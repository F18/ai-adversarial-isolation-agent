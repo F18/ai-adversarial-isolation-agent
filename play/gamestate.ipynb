{
 "cells": [
  {
   "cell_type": "code",
   "execution_count": 80,
   "metadata": {
    "edited": true,
    "gradable": true,
    "grader_id": "7xzivv4v1j7",
    "udacity_user_query": ""
   },
   "outputs": [],
   "source": [
    "#!/usr/bin/env python\n",
    "\n",
    "from copy import deepcopy\n",
    "import numpy as np\n",
    "\n",
    "XLIM, YLIM = 3, 2  # board dimensions\n",
    "\n",
    "# The eight movement directions possible for a chess queen\n",
    "RAYS = [(1, 0), (1, -1), (0, -1), (-1, -1), (-1, 0), (-1, 1), (0, 1), (1, 1)]\n",
    "\n",
    "\n",
    "class GameState:\n",
    "    \"\"\"\n",
    "    Attributes\n",
    "    ----------\n",
    "    _board: list(list)\n",
    "        Represent the board with a 2d array _board[x][y]\n",
    "        where open spaces are 0 and closed spaces are 1\n",
    "        and a coordinate system where [0][0] is the top-\n",
    "        left corner, and x increases to the right while\n",
    "        y increases going down (this is an arbitrary\n",
    "        convention choice -- there are many other options\n",
    "        that are just as good)\n",
    "\n",
    "    _parity: bool\n",
    "        Keep track of active player initiative (which\n",
    "        player has control to move) where 0 indicates that\n",
    "        player one has initiative and 1 indicates player two\n",
    "\n",
    "    _player_locations: list(tuple)\n",
    "        Keep track of the current location of each player\n",
    "        on the board where position is encoded by the\n",
    "        board indices of their last move, e.g., [(0, 0), (1, 0)]\n",
    "        means player one is at (0, 0) and player two is at (1, 0)\n",
    "    \"\"\"\n",
    "\n",
    "    def __init__(self):\n",
    "        # single-underscore prefix on attribute names means\n",
    "        # that the attribute is \"private\" (Python doesn't truly\n",
    "        # support public/private members, so this is only a\n",
    "        # convention)\n",
    "        self.board = [[0] * YLIM for _ in range(XLIM)]\n",
    "        self.board[-1][-1] = 1  # block lower-right corner\n",
    "        self.parity = 0\n",
    "        self.player_locations = [None, None]\n",
    "        print(\"board layout:\")\n",
    "        print(self.board)\n",
    "\n",
    "    def opponent(self):\n",
    "        \"\"\"Returns the inactive player (the opposite of parity)\"\"\"\n",
    "        return 1 if self.parity == 0 else 0\n",
    "\n",
    "    def actions(self):\n",
    "        \"\"\"Return a list of legal actions for the active player\n",
    "\n",
    "        You are free to choose any convention to represent actions,\n",
    "        but one option is to represent actions by the (row, column)\n",
    "        of the endpoint for the token. For example, if your token is\n",
    "        in (0, 0), and your opponent is in (1, 0) then the legal\n",
    "        actions could be encoded as (0, 1) and (0, 2).\n",
    "\n",
    "        \"\"\"\n",
    "        return self.liberties(self.player_locations[self.parity])\n",
    "\n",
    "    def player(self):\n",
    "        \"\"\"Return the id of the active player\n",
    "\n",
    "        Hint: return 0 for the first player, and 1 for the second player\n",
    "        \"\"\"\n",
    "        return 0 if self.parity == 0 else 1\n",
    "\n",
    "    def result(self, action):\n",
    "        \"\"\"Return a new state that results from applying the given\n",
    "        action in the current state\n",
    "\n",
    "        Hint: Check out the deepcopy module--do NOT modify the\n",
    "        objects internal state in place\n",
    "        \"\"\"\n",
    "        result = deepcopy(self)\n",
    "        result.board[action[0]][action[1]] = 1\n",
    "        return result\n",
    "\n",
    "    def terminal_test(self):\n",
    "        \"\"\"return True if the current state is terminal,\n",
    "        and False otherwise\n",
    "\n",
    "        Hint: an Isolation state is terminal if _either_\n",
    "        player has no remaining liberties (even if the\n",
    "        player is not active in the current state)\n",
    "        \"\"\"\n",
    "        for player_id in [0, 1]:\n",
    "            if not self.liberties(self.player_locations[player_id]):\n",
    "                return True\n",
    "        return False\n",
    "    \n",
    "    def liberties(self, loc=None):\n",
    "        \"\"\"Return a list of all open cells in the\n",
    "        neighborhood of the specified location.  The list\n",
    "        should include all open spaces in a straight line\n",
    "        along any row, column or diagonal from the current\n",
    "        position. (Tokens CANNOT move through obstacles\n",
    "        or blocked squares in queens Isolation.)\n",
    "\n",
    "        Note: if loc is None, then return all empty cells\n",
    "        on the board\n",
    "        \"\"\"\n",
    "        liberties = list()\n",
    "        # If loc is None, then return all empty cells on board\n",
    "        if loc is None:\n",
    "            for i in range(0, XLIM):\n",
    "                for j in range(0, YLIM):\n",
    "                    if self.board[i][j] == 0:\n",
    "                        liberties.append((i, j))\n",
    "            return liberties\n",
    "\n",
    "        for i in range(0, XLIM):\n",
    "            for j in range(0, YLIM):\n",
    "                i_p = int(loc[0])\n",
    "                j_p = int(loc[1])\n",
    "                if i == i_p and j == j_p:\n",
    "                    break\n",
    "                try:\n",
    "                    direction = np.abs((i - i_p) / (j - j_p))\n",
    "                except ZeroDivisionError:\n",
    "                    direction = -1\n",
    "                if direction == 0 or direction == 1 or direction == -1:\n",
    "                    if self.board[i][j] == 0:\n",
    "                        liberties.append((i, j))\n",
    "\n",
    "        return liberties"
   ]
  },
  {
   "cell_type": "code",
   "execution_count": null,
   "metadata": {},
   "outputs": [],
   "source": []
  },
  {
   "cell_type": "code",
   "execution_count": 81,
   "metadata": {
    "edited": true,
    "gradable": true,
    "grader_id": "dvbmjqquxtq",
    "udacity_user_query": ""
   },
   "outputs": [],
   "source": [
    "# No coding is Requested for this cell\n",
    "# Cell is reserved for test only"
   ]
  },
  {
   "cell_type": "code",
   "execution_count": 82,
   "metadata": {
    "edited": true,
    "gradable": true,
    "grader_id": "3hhs21a7bbp",
    "udacity_user_query": ""
   },
   "outputs": [],
   "source": [
    "# No coding is Requested for this cell\n",
    "# Cell is reserved for test only"
   ]
  },
  {
   "cell_type": "code",
   "execution_count": 83,
   "metadata": {
    "edited": true,
    "gradable": true,
    "grader_id": "iq982k7isi",
    "udacity_user_query": ""
   },
   "outputs": [],
   "source": [
    "# No coding is Requested for this cell\n",
    "# Cell is reserved for test only"
   ]
  },
  {
   "cell_type": "code",
   "execution_count": 84,
   "metadata": {
    "edited": true,
    "gradable": true,
    "grader_id": "uhzmezmkck",
    "udacity_user_query": ""
   },
   "outputs": [],
   "source": [
    "# No coding is Requested for this cell\n",
    "# Cell is reserved for test only"
   ]
  },
  {
   "cell_type": "code",
   "execution_count": 85,
   "metadata": {
    "edited": true,
    "gradable": true,
    "grader_id": "a8lptba0hg7",
    "udacity_user_query": ""
   },
   "outputs": [],
   "source": [
    "# No coding is Requested for this cell\n",
    "# Cell is reserved for test only"
   ]
  },
  {
   "cell_type": "code",
   "execution_count": null,
   "metadata": {},
   "outputs": [],
   "source": []
  },
  {
   "cell_type": "code",
   "execution_count": null,
   "metadata": {},
   "outputs": [],
   "source": []
  }
 ],
 "metadata": {
  "grader_mode": "",
  "kernelspec": {
   "display_name": "Python 3",
   "language": "python",
   "name": "python3"
  },
  "language_info": {
   "codemirror_mode": {
    "name": "ipython",
    "version": 3
   },
   "file_extension": ".py",
   "mimetype": "text/x-python",
   "name": "python",
   "nbconvert_exporter": "python",
   "pygments_lexer": "ipython3",
   "version": "3.6.3"
  },
  "showGradeBtn": true
 },
 "nbformat": 4,
 "nbformat_minor": 2
}
