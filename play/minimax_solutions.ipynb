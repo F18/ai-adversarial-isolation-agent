{
 "cells": [
  {
   "cell_type": "code",
   "execution_count": null,
   "metadata": {},
   "outputs": [],
   "source": [
    "\n",
    "from minimax_helpers import *\n",
    "\n",
    "# Solution using an explicit loop based on max_value()\n",
    "def _minimax_decision(gameState):\n",
    "    \"\"\" Return the move along a branch of the game tree that\n",
    "    has the best possible value.  A move is a pair of coordinates\n",
    "    in (column, row) order corresponding to a legal move for\n",
    "    the searching player.\n",
    "    \n",
    "    You can ignore the special case of calling this function\n",
    "    from a terminal state.\n",
    "    \"\"\"\n",
    "    best_score = float(\"-inf\")\n",
    "    best_move = None\n",
    "    for m in gameState.actions():\n",
    "        v = min_value(gameState.result(m))\n",
    "        if v > best_score:\n",
    "            best_score = v\n",
    "            best_move = m\n",
    "    return best_move\n",
    "\n",
    "\n",
    "# This solution does the same thing using the built-in `max` function\n",
    "# Note that \"lambda\" expressions are Python's version of anonymous functions\n",
    "def minimax_decision(gameState):\n",
    "    \"\"\" Return the move along a branch of the game tree that\n",
    "    has the best possible value.  A move is a pair of coordinates\n",
    "    in (column, row) order corresponding to a legal move for\n",
    "    the searching player.\n",
    "    \n",
    "    You can ignore the special case of calling this function\n",
    "    from a terminal state.\n",
    "    \"\"\"\n",
    "    # The built in `max()` function can be used as argmax!\n",
    "    return max(gameState.actions(),\n",
    "               key=lambda m: min_value(gameState.result(m)))\n"
   ]
  }
 ],
 "metadata": {
  "kernelspec": {
   "display_name": "Python 3",
   "language": "python",
   "name": "python3"
  },
  "language_info": {
   "codemirror_mode": {
    "name": "ipython",
    "version": 3
   },
   "file_extension": ".py",
   "mimetype": "text/x-python",
   "name": "python",
   "nbconvert_exporter": "python",
   "pygments_lexer": "ipython3",
   "version": "3.6.3"
  }
 },
 "nbformat": 4,
 "nbformat_minor": 2
}
