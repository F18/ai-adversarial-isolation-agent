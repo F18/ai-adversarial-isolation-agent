{
 "cells": [
  {
   "cell_type": "code",
   "execution_count": null,
   "metadata": {},
   "outputs": [],
   "source": [
    "from minimax import minimax_decision\n",
    "\n",
    "def get_action(gameState, depth_limit):\n",
    "    # Turns out \"iterative deepening\" is just a for loop...\n",
    "    best_move = None\n",
    "    for depth in range(1, depth_limit+1):\n",
    "        best_move = minimax_decision(gameState, depth)\n",
    "    return best_move\n"
   ]
  }
 ],
 "metadata": {
  "kernelspec": {
   "display_name": "Python 3",
   "language": "python",
   "name": "python3"
  },
  "language_info": {
   "codemirror_mode": {
    "name": "ipython",
    "version": 3
   },
   "file_extension": ".py",
   "mimetype": "text/x-python",
   "name": "python",
   "nbconvert_exporter": "python",
   "pygments_lexer": "ipython3",
   "version": "3.6.3"
  }
 },
 "nbformat": 4,
 "nbformat_minor": 2
}
